{
 "cells": [
  {
   "cell_type": "markdown",
   "id": "dc5843c9-add7-435a-b08a-39dc76d7f1ff",
   "metadata": {},
   "source": [
    "# Find Zero Shot Examples\n",
    "\n",
    "This notebook accompanies our code base for reproducing the paper [Autoformalism with LLMs](https://arxiv.org/abs/2205.12615).  The first experiment run in that paper uses a 10-shot prompt of \"translation\" examples to translate natural language math questions (written in LaTex) to formal statements written in [Isabelle](https://isabelle.in.tum.de/).\n",
    "\n",
    "The authors did release text version of the prompts but they did not release the corresponding question numbers.  So we use this notebook to manually search through the questions to find the question numbers for the few shot prompts."
   ]
  },
  {
   "cell_type": "code",
   "execution_count": 1,
   "id": "5b37f097-9276-4eff-9988-ca6bfb688697",
   "metadata": {},
   "outputs": [],
   "source": [
    "from autoformalism_with_llms.dataset import MiniF2FMATH\n",
    "\n",
    "dataset = MiniF2FMATH()"
   ]
  },
  {
   "cell_type": "markdown",
   "id": "cd5b745a-c3e5-488b-b420-8576995b4f1c",
   "metadata": {},
   "source": [
    "### Snippets\n",
    "\n",
    "We copy snippets of text from each of the prompt examples in the appendix of the paper and search for them."
   ]
  },
  {
   "cell_type": "code",
   "execution_count": 2,
   "id": "451ad25c-b791-4b64-9216-0a44c4a5fa35",
   "metadata": {},
   "outputs": [],
   "source": [
    "alg_snippets = [\n",
    "    r\"\\frac{4}{x}\",\n",
    "    r\"f(f(f\",\n",
    "    r\"The volume of a cone is given by\",\n",
    "    r\"If $3a + b + c\",\n",
    "    r\"If $f(x)=5x-12\",\n",
    "    r\"What is the $x\",\n",
    "    r\"Given $2^a = 32\",\n",
    "    r\"If $f(x)=10\",\n",
    "    r\"Simplify $(9-4i\",\n",
    "    r\"What is the minimum possible value for\",\n",
    "]"
   ]
  },
  {
   "cell_type": "code",
   "execution_count": 4,
   "id": "3f528bd2-3672-4874-a888-0a562977f970",
   "metadata": {},
   "outputs": [
    {
     "name": "stdout",
     "output_type": "stream",
     "text": [
      "Algebra question ids for few shot examples\n",
      "['245', '76', '478', '338', '422', '43', '756', '149', '48', '410']\n"
     ]
    }
   ],
   "source": [
    "algebra = dataset.get_subject('algebra')\n",
    "algebra_few_shot_ids = {}\n",
    "for i, snippet in enumerate(alg_snippets):\n",
    "    matches = algebra.search(snippet)\n",
    "    if len(matches) == 0:\n",
    "        print(f\"Snippet not found for example {i}\")\n",
    "    elif len(matches) == 1:\n",
    "        algebra_few_shot_ids[i] = matches[0].question_number\n",
    "    else:\n",
    "        print(f\"Snippet {i} has more than one match\")\n",
    "        \n",
    "alg_question_ids = list(algebra_few_shot_ids.values())\n",
    "print('Algebra question ids for few shot examples')\n",
    "print(alg_question_ids)"
   ]
  },
  {
   "cell_type": "code",
   "execution_count": 26,
   "id": "0e111858-ed6a-4865-91fd-fa13da79fa75",
   "metadata": {},
   "outputs": [],
   "source": [
    "numtheory_snippets = [\n",
    "    r\"If $n$ is a positive integer such that $2n\",\n",
    "    r\"Let $n$ be the number of integers $m$\",\n",
    "    r\"What is the remainder when $1 + 2\",\n",
    "    r\"Cards are numbered from\",\n",
    "    r\"Find $9^{-1}\",\n",
    "    r\"Suppose $m$ is a two-digit\",\n",
    "    r\"Find $24^{-1}\",\n",
    "    r\"Given that $p\\ge 7\",\n",
    "    r\"What is the remainder when $2000+\",\n",
    "    r\"One morning each member of Angela\",\n",
    "]"
   ]
  },
  {
   "cell_type": "code",
   "execution_count": 27,
   "id": "2fbf1ff5-6c78-4bc8-900f-a4c4d5b7e632",
   "metadata": {},
   "outputs": [
    {
     "name": "stdout",
     "output_type": "stream",
     "text": [
      "Number Theory question ids for few shot examples\n",
      "['709', '461', '466', '257', '34', '780', '233', '764', '345', '227']\n"
     ]
    }
   ],
   "source": [
    "numbertheory = dataset.get_subject('numbertheory')\n",
    "numbertheory_few_shot_ids = {}\n",
    "for i, snippet in enumerate(numtheory_snippets):\n",
    "    matches = numbertheory.search(snippet)\n",
    "    if len(matches) == 0:\n",
    "        print(f\"Snippet not found for example {i}\")\n",
    "    elif len(matches) == 1:\n",
    "        numbertheory_few_shot_ids[i] = matches[0].question_number\n",
    "    else:\n",
    "        print(f\"Snippet {i} has more than one match\")\n",
    "        \n",
    "numbertheory_question_ids = list(numbertheory_few_shot_ids.values())\n",
    "print('Number Theory question ids for few shot examples')\n",
    "print(numbertheory_question_ids)"
   ]
  },
  {
   "cell_type": "markdown",
   "id": "64f97809-44a7-43ba-b54e-893b9492694c",
   "metadata": {},
   "source": [
    "# Conclusion\n",
    "\n",
    "We found the question numbers that corresponds to the few-shot prompts used in the original paper.  We will copy these values into our files to "
   ]
  },
  {
   "cell_type": "code",
   "execution_count": null,
   "id": "3ee1a466-59c6-45b1-b0fd-2c76421cae67",
   "metadata": {},
   "outputs": [],
   "source": [
    "We found the question numbers that correspond to the prompts\n",
    "used in the original"
   ]
  }
 ],
 "metadata": {
  "kernelspec": {
   "display_name": "Python 3 (ipykernel)",
   "language": "python",
   "name": "python3"
  },
  "language_info": {
   "codemirror_mode": {
    "name": "ipython",
    "version": 3
   },
   "file_extension": ".py",
   "mimetype": "text/x-python",
   "name": "python",
   "nbconvert_exporter": "python",
   "pygments_lexer": "ipython3",
   "version": "3.11.5"
  }
 },
 "nbformat": 4,
 "nbformat_minor": 5
}
